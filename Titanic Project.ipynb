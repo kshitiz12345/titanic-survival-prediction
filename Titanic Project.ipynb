{
 "cells": [
  {
   "cell_type": "code",
   "execution_count": 2,
   "metadata": {},
   "outputs": [],
   "source": [
    "import pandas as pd\n",
    "import numpy as np\n",
    "import sys\n",
    "import matplotlib\n",
    "import sklearn\n",
    "import random\n",
    "import time\n",
    "import warnings\n",
    "warnings.filterwarnings('ignore')\n"
   ]
  },
  {
   "cell_type": "code",
   "execution_count": 3,
   "metadata": {},
   "outputs": [
    {
     "name": "stdout",
     "output_type": "stream",
     "text": [
      "(891, 12)\n",
      "(418, 11)\n"
     ]
    }
   ],
   "source": [
    "#reading test and train file\n",
    "data_raw_train= pd.read_csv(r\"C:\\Users\\Swati Gupta\\Desktop\\titanic_train.csv\")\n",
    "data_raw_test= pd.read_csv(r\"C:\\Users\\Swati Gupta\\Desktop\\titanic_test.csv\")\n",
    "print(data_raw_train.shape)\n",
    "print(data_raw_test.shape)"
   ]
  },
  {
   "cell_type": "code",
   "execution_count": 4,
   "metadata": {},
   "outputs": [],
   "source": [
    "#making copy of training data\n",
    "copy_data_raw_train= data_raw_train.copy(deep= True)\n",
    "copy_data_raw_test= data_raw_test.copy(deep= True)"
   ]
  },
  {
   "cell_type": "code",
   "execution_count": 5,
   "metadata": {},
   "outputs": [],
   "source": [
    "#taking refrence to clean both train and test data\n",
    "data_cleaner_for_both = [copy_data_raw_train, copy_data_raw_test]"
   ]
  },
  {
   "cell_type": "code",
   "execution_count": 6,
   "metadata": {},
   "outputs": [],
   "source": [
    "#to check the null values in both train and test data:\n",
    "\n",
    "def to_check_null_values(data):\n",
    "    data= data.isnull().sum()\n",
    "    return data\n",
    "    "
   ]
  },
  {
   "cell_type": "code",
   "execution_count": 7,
   "metadata": {},
   "outputs": [
    {
     "data": {
      "text/plain": [
       "PassengerId           0\n",
       "Survived              0\n",
       "ticket_class          0\n",
       "Name                  0\n",
       "Sex                   0\n",
       "Age                 177\n",
       "Sibling/spouse        0\n",
       "Parents/children      0\n",
       "Ticketnumber          0\n",
       "Fare                  0\n",
       "Cabinnumber         687\n",
       "Embarked              2\n",
       "dtype: int64"
      ]
     },
     "execution_count": 7,
     "metadata": {},
     "output_type": "execute_result"
    }
   ],
   "source": [
    "to_check_null_values(copy_data_raw_train)\n"
   ]
  },
  {
   "cell_type": "code",
   "execution_count": 8,
   "metadata": {},
   "outputs": [
    {
     "data": {
      "text/plain": [
       "PassengerId           0\n",
       "ticket_class          0\n",
       "Name                  0\n",
       "Sex                   0\n",
       "Age                  86\n",
       "Sibling/spouse        0\n",
       "Parents/children      0\n",
       "Ticketnumber          0\n",
       "Fare                  1\n",
       "Cabinnumber         327\n",
       "Embarked              0\n",
       "dtype: int64"
      ]
     },
     "execution_count": 8,
     "metadata": {},
     "output_type": "execute_result"
    }
   ],
   "source": [
    "to_check_null_values(copy_data_raw_test)"
   ]
  },
  {
   "cell_type": "markdown",
   "metadata": {},
   "source": [
    "# data cleaning"
   ]
  },
  {
   "cell_type": "code",
   "execution_count": 9,
   "metadata": {},
   "outputs": [
    {
     "data": {
      "text/html": [
       "<div>\n",
       "<style scoped>\n",
       "    .dataframe tbody tr th:only-of-type {\n",
       "        vertical-align: middle;\n",
       "    }\n",
       "\n",
       "    .dataframe tbody tr th {\n",
       "        vertical-align: top;\n",
       "    }\n",
       "\n",
       "    .dataframe thead th {\n",
       "        text-align: right;\n",
       "    }\n",
       "</style>\n",
       "<table border=\"1\" class=\"dataframe\">\n",
       "  <thead>\n",
       "    <tr style=\"text-align: right;\">\n",
       "      <th></th>\n",
       "      <th>PassengerId</th>\n",
       "      <th>Survived</th>\n",
       "      <th>ticket_class</th>\n",
       "      <th>Age</th>\n",
       "      <th>Sibling/spouse</th>\n",
       "      <th>Parents/children</th>\n",
       "      <th>Fare</th>\n",
       "    </tr>\n",
       "  </thead>\n",
       "  <tbody>\n",
       "    <tr>\n",
       "      <th>count</th>\n",
       "      <td>891.000000</td>\n",
       "      <td>891.000000</td>\n",
       "      <td>891.000000</td>\n",
       "      <td>714.000000</td>\n",
       "      <td>891.000000</td>\n",
       "      <td>891.000000</td>\n",
       "      <td>891.000000</td>\n",
       "    </tr>\n",
       "    <tr>\n",
       "      <th>mean</th>\n",
       "      <td>446.000000</td>\n",
       "      <td>0.383838</td>\n",
       "      <td>2.308642</td>\n",
       "      <td>29.699118</td>\n",
       "      <td>0.523008</td>\n",
       "      <td>0.381594</td>\n",
       "      <td>32.204208</td>\n",
       "    </tr>\n",
       "    <tr>\n",
       "      <th>std</th>\n",
       "      <td>257.353842</td>\n",
       "      <td>0.486592</td>\n",
       "      <td>0.836071</td>\n",
       "      <td>14.526497</td>\n",
       "      <td>1.102743</td>\n",
       "      <td>0.806057</td>\n",
       "      <td>49.693429</td>\n",
       "    </tr>\n",
       "    <tr>\n",
       "      <th>min</th>\n",
       "      <td>1.000000</td>\n",
       "      <td>0.000000</td>\n",
       "      <td>1.000000</td>\n",
       "      <td>0.420000</td>\n",
       "      <td>0.000000</td>\n",
       "      <td>0.000000</td>\n",
       "      <td>0.000000</td>\n",
       "    </tr>\n",
       "    <tr>\n",
       "      <th>25%</th>\n",
       "      <td>223.500000</td>\n",
       "      <td>0.000000</td>\n",
       "      <td>2.000000</td>\n",
       "      <td>20.125000</td>\n",
       "      <td>0.000000</td>\n",
       "      <td>0.000000</td>\n",
       "      <td>7.910400</td>\n",
       "    </tr>\n",
       "    <tr>\n",
       "      <th>50%</th>\n",
       "      <td>446.000000</td>\n",
       "      <td>0.000000</td>\n",
       "      <td>3.000000</td>\n",
       "      <td>28.000000</td>\n",
       "      <td>0.000000</td>\n",
       "      <td>0.000000</td>\n",
       "      <td>14.454200</td>\n",
       "    </tr>\n",
       "    <tr>\n",
       "      <th>75%</th>\n",
       "      <td>668.500000</td>\n",
       "      <td>1.000000</td>\n",
       "      <td>3.000000</td>\n",
       "      <td>38.000000</td>\n",
       "      <td>1.000000</td>\n",
       "      <td>0.000000</td>\n",
       "      <td>31.000000</td>\n",
       "    </tr>\n",
       "    <tr>\n",
       "      <th>max</th>\n",
       "      <td>891.000000</td>\n",
       "      <td>1.000000</td>\n",
       "      <td>3.000000</td>\n",
       "      <td>80.000000</td>\n",
       "      <td>8.000000</td>\n",
       "      <td>6.000000</td>\n",
       "      <td>512.329200</td>\n",
       "    </tr>\n",
       "  </tbody>\n",
       "</table>\n",
       "</div>"
      ],
      "text/plain": [
       "       PassengerId    Survived  ticket_class         Age  Sibling/spouse  \\\n",
       "count   891.000000  891.000000    891.000000  714.000000      891.000000   \n",
       "mean    446.000000    0.383838      2.308642   29.699118        0.523008   \n",
       "std     257.353842    0.486592      0.836071   14.526497        1.102743   \n",
       "min       1.000000    0.000000      1.000000    0.420000        0.000000   \n",
       "25%     223.500000    0.000000      2.000000   20.125000        0.000000   \n",
       "50%     446.000000    0.000000      3.000000   28.000000        0.000000   \n",
       "75%     668.500000    1.000000      3.000000   38.000000        1.000000   \n",
       "max     891.000000    1.000000      3.000000   80.000000        8.000000   \n",
       "\n",
       "       Parents/children        Fare  \n",
       "count        891.000000  891.000000  \n",
       "mean           0.381594   32.204208  \n",
       "std            0.806057   49.693429  \n",
       "min            0.000000    0.000000  \n",
       "25%            0.000000    7.910400  \n",
       "50%            0.000000   14.454200  \n",
       "75%            0.000000   31.000000  \n",
       "max            6.000000  512.329200  "
      ]
     },
     "execution_count": 9,
     "metadata": {},
     "output_type": "execute_result"
    }
   ],
   "source": [
    "copy_data_raw_train.describe()"
   ]
  },
  {
   "cell_type": "code",
   "execution_count": 10,
   "metadata": {},
   "outputs": [],
   "source": [
    "for i in data_cleaner_for_both:\n",
    "    i['Age'].fillna(i['Age'].median(), inplace= True)\n",
    "    i['Fare'].fillna(i['Fare'].median(), inplace= True)\n",
    "    i['Embarked'].fillna(i['Embarked'].mode()[0], inplace= True)"
   ]
  },
  {
   "cell_type": "code",
   "execution_count": 11,
   "metadata": {},
   "outputs": [
    {
     "data": {
      "text/plain": [
       "PassengerId           0\n",
       "Survived              0\n",
       "ticket_class          0\n",
       "Name                  0\n",
       "Sex                   0\n",
       "Age                   0\n",
       "Sibling/spouse        0\n",
       "Parents/children      0\n",
       "Ticketnumber          0\n",
       "Fare                  0\n",
       "Cabinnumber         687\n",
       "Embarked              0\n",
       "dtype: int64"
      ]
     },
     "execution_count": 11,
     "metadata": {},
     "output_type": "execute_result"
    }
   ],
   "source": [
    "to_check_null_values(copy_data_raw_train)\n"
   ]
  },
  {
   "cell_type": "code",
   "execution_count": 12,
   "metadata": {},
   "outputs": [
    {
     "data": {
      "text/plain": [
       "PassengerId           0\n",
       "ticket_class          0\n",
       "Name                  0\n",
       "Sex                   0\n",
       "Age                   0\n",
       "Sibling/spouse        0\n",
       "Parents/children      0\n",
       "Ticketnumber          0\n",
       "Fare                  0\n",
       "Cabinnumber         327\n",
       "Embarked              0\n",
       "dtype: int64"
      ]
     },
     "execution_count": 12,
     "metadata": {},
     "output_type": "execute_result"
    }
   ],
   "source": [
    "to_check_null_values(copy_data_raw_test)\n"
   ]
  },
  {
   "cell_type": "code",
   "execution_count": 13,
   "metadata": {},
   "outputs": [
    {
     "name": "stdout",
     "output_type": "stream",
     "text": [
      "['PassengerId' 'Survived' 'ticket_class' 'Name' 'Sex' 'Age'\n",
      " 'Sibling/spouse' 'Parents/children' 'Ticketnumber' 'Fare' 'Cabinnumber'\n",
      " 'Embarked']\n",
      "['PassengerId' 'ticket_class' 'Name' 'Sex' 'Age' 'Sibling/spouse'\n",
      " 'Parents/children' 'Ticketnumber' 'Fare' 'Cabinnumber' 'Embarked']\n"
     ]
    }
   ],
   "source": [
    "print(copy_data_raw_train.columns.values)\n",
    "print(copy_data_raw_test.columns.values)\n"
   ]
  },
  {
   "cell_type": "code",
   "execution_count": 14,
   "metadata": {},
   "outputs": [],
   "source": [
    "#to chcek the family size\n",
    "for x in data_cleaner_for_both:\n",
    "    x['Family_Size']= x['Sibling/spouse'] + x['Parents/children']+1\n",
    "#if the person is alone then initialize it to 1 else 0\n",
    "    x['Is_Alone']= 1 \n",
    "    x['Is_Alone'].loc[x['Family_Size']>1]=0\n",
    "#spliting title from name:\n",
    "    x['FareBins'] = pd.cut(x['Fare'], 4)\n",
    "    x['AgeBins'] = pd.cut(x['Age'].astype(int), 4)\n"
   ]
  },
  {
   "cell_type": "code",
   "execution_count": 15,
   "metadata": {},
   "outputs": [
    {
     "name": "stdout",
     "output_type": "stream",
     "text": [
      "['PassengerId' 'Survived' 'ticket_class' 'Name' 'Sex' 'Age'\n",
      " 'Sibling/spouse' 'Parents/children' 'Ticketnumber' 'Fare' 'Cabinnumber'\n",
      " 'Embarked' 'Family_Size' 'Is_Alone' 'FareBins' 'AgeBins']\n",
      "['PassengerId' 'ticket_class' 'Name' 'Sex' 'Age' 'Sibling/spouse'\n",
      " 'Parents/children' 'Ticketnumber' 'Fare' 'Cabinnumber' 'Embarked'\n",
      " 'Family_Size' 'Is_Alone' 'FareBins' 'AgeBins']\n"
     ]
    }
   ],
   "source": [
    "print(copy_data_raw_train.columns.values)\n",
    "print(copy_data_raw_test.columns.values)\n"
   ]
  },
  {
   "cell_type": "code",
   "execution_count": 16,
   "metadata": {},
   "outputs": [
    {
     "name": "stdout",
     "output_type": "stream",
     "text": [
      " Mr. James\n",
      "1                       Wilkes\n"
     ]
    }
   ],
   "source": [
    "for x in copy_data_raw_test:\n",
    "     #x['Title'] = x['Name'].str.split(\", \", expand=True)[1].str.split(\".\", expand=True)[0]\n",
    "        \n",
    "    if(x == 'Name'):\n",
    "      name = copy_data_raw_test[x]\n",
    "      print((name.to_string().split(\",\")[1]))\n",
    "# #     x['Title'] = x['Name'].to_string().split(\",\")[1]\n",
    "# #     print(x['Title'])\n",
    "\n"
   ]
  },
  {
   "cell_type": "markdown",
   "metadata": {},
   "source": [
    "# categorical data cleaning"
   ]
  },
  {
   "cell_type": "code",
   "execution_count": 17,
   "metadata": {},
   "outputs": [
    {
     "data": {
      "text/html": [
       "<div>\n",
       "<style scoped>\n",
       "    .dataframe tbody tr th:only-of-type {\n",
       "        vertical-align: middle;\n",
       "    }\n",
       "\n",
       "    .dataframe tbody tr th {\n",
       "        vertical-align: top;\n",
       "    }\n",
       "\n",
       "    .dataframe thead th {\n",
       "        text-align: right;\n",
       "    }\n",
       "</style>\n",
       "<table border=\"1\" class=\"dataframe\">\n",
       "  <thead>\n",
       "    <tr style=\"text-align: right;\">\n",
       "      <th></th>\n",
       "      <th>PassengerId</th>\n",
       "      <th>Survived</th>\n",
       "      <th>ticket_class</th>\n",
       "      <th>Name</th>\n",
       "      <th>Sex</th>\n",
       "      <th>Age</th>\n",
       "      <th>Sibling/spouse</th>\n",
       "      <th>Parents/children</th>\n",
       "      <th>Ticketnumber</th>\n",
       "      <th>Fare</th>\n",
       "      <th>Cabinnumber</th>\n",
       "      <th>Embarked</th>\n",
       "      <th>Family_Size</th>\n",
       "      <th>Is_Alone</th>\n",
       "      <th>FareBins</th>\n",
       "      <th>AgeBins</th>\n",
       "    </tr>\n",
       "  </thead>\n",
       "  <tbody>\n",
       "    <tr>\n",
       "      <th>0</th>\n",
       "      <td>1</td>\n",
       "      <td>0</td>\n",
       "      <td>3</td>\n",
       "      <td>Braund, Mr. Owen Harris</td>\n",
       "      <td>male</td>\n",
       "      <td>22.0</td>\n",
       "      <td>1</td>\n",
       "      <td>0</td>\n",
       "      <td>A/5 21171</td>\n",
       "      <td>7.2500</td>\n",
       "      <td>NaN</td>\n",
       "      <td>S</td>\n",
       "      <td>2</td>\n",
       "      <td>0</td>\n",
       "      <td>(-0.512, 128.082]</td>\n",
       "      <td>(20.0, 40.0]</td>\n",
       "    </tr>\n",
       "    <tr>\n",
       "      <th>1</th>\n",
       "      <td>2</td>\n",
       "      <td>1</td>\n",
       "      <td>1</td>\n",
       "      <td>Cumings, Mrs. John Bradley (Florence Briggs Th...</td>\n",
       "      <td>female</td>\n",
       "      <td>38.0</td>\n",
       "      <td>1</td>\n",
       "      <td>0</td>\n",
       "      <td>PC 17599</td>\n",
       "      <td>71.2833</td>\n",
       "      <td>C85</td>\n",
       "      <td>C</td>\n",
       "      <td>2</td>\n",
       "      <td>0</td>\n",
       "      <td>(-0.512, 128.082]</td>\n",
       "      <td>(20.0, 40.0]</td>\n",
       "    </tr>\n",
       "    <tr>\n",
       "      <th>2</th>\n",
       "      <td>3</td>\n",
       "      <td>1</td>\n",
       "      <td>3</td>\n",
       "      <td>Heikkinen, Miss. Laina</td>\n",
       "      <td>female</td>\n",
       "      <td>26.0</td>\n",
       "      <td>0</td>\n",
       "      <td>0</td>\n",
       "      <td>STON/O2. 3101282</td>\n",
       "      <td>7.9250</td>\n",
       "      <td>NaN</td>\n",
       "      <td>S</td>\n",
       "      <td>1</td>\n",
       "      <td>1</td>\n",
       "      <td>(-0.512, 128.082]</td>\n",
       "      <td>(20.0, 40.0]</td>\n",
       "    </tr>\n",
       "    <tr>\n",
       "      <th>3</th>\n",
       "      <td>4</td>\n",
       "      <td>1</td>\n",
       "      <td>1</td>\n",
       "      <td>Futrelle, Mrs. Jacques Heath (Lily May Peel)</td>\n",
       "      <td>female</td>\n",
       "      <td>35.0</td>\n",
       "      <td>1</td>\n",
       "      <td>0</td>\n",
       "      <td>113803</td>\n",
       "      <td>53.1000</td>\n",
       "      <td>C123</td>\n",
       "      <td>S</td>\n",
       "      <td>2</td>\n",
       "      <td>0</td>\n",
       "      <td>(-0.512, 128.082]</td>\n",
       "      <td>(20.0, 40.0]</td>\n",
       "    </tr>\n",
       "    <tr>\n",
       "      <th>4</th>\n",
       "      <td>5</td>\n",
       "      <td>0</td>\n",
       "      <td>3</td>\n",
       "      <td>Allen, Mr. William Henry</td>\n",
       "      <td>male</td>\n",
       "      <td>35.0</td>\n",
       "      <td>0</td>\n",
       "      <td>0</td>\n",
       "      <td>373450</td>\n",
       "      <td>8.0500</td>\n",
       "      <td>NaN</td>\n",
       "      <td>S</td>\n",
       "      <td>1</td>\n",
       "      <td>1</td>\n",
       "      <td>(-0.512, 128.082]</td>\n",
       "      <td>(20.0, 40.0]</td>\n",
       "    </tr>\n",
       "  </tbody>\n",
       "</table>\n",
       "</div>"
      ],
      "text/plain": [
       "   PassengerId  Survived  ticket_class  \\\n",
       "0            1         0             3   \n",
       "1            2         1             1   \n",
       "2            3         1             3   \n",
       "3            4         1             1   \n",
       "4            5         0             3   \n",
       "\n",
       "                                                Name     Sex   Age  \\\n",
       "0                            Braund, Mr. Owen Harris    male  22.0   \n",
       "1  Cumings, Mrs. John Bradley (Florence Briggs Th...  female  38.0   \n",
       "2                             Heikkinen, Miss. Laina  female  26.0   \n",
       "3       Futrelle, Mrs. Jacques Heath (Lily May Peel)  female  35.0   \n",
       "4                           Allen, Mr. William Henry    male  35.0   \n",
       "\n",
       "   Sibling/spouse  Parents/children      Ticketnumber     Fare Cabinnumber  \\\n",
       "0               1                 0         A/5 21171   7.2500         NaN   \n",
       "1               1                 0          PC 17599  71.2833         C85   \n",
       "2               0                 0  STON/O2. 3101282   7.9250         NaN   \n",
       "3               1                 0            113803  53.1000        C123   \n",
       "4               0                 0            373450   8.0500         NaN   \n",
       "\n",
       "  Embarked  Family_Size  Is_Alone           FareBins       AgeBins  \n",
       "0        S            2         0  (-0.512, 128.082]  (20.0, 40.0]  \n",
       "1        C            2         0  (-0.512, 128.082]  (20.0, 40.0]  \n",
       "2        S            1         1  (-0.512, 128.082]  (20.0, 40.0]  \n",
       "3        S            2         0  (-0.512, 128.082]  (20.0, 40.0]  \n",
       "4        S            1         1  (-0.512, 128.082]  (20.0, 40.0]  "
      ]
     },
     "execution_count": 17,
     "metadata": {},
     "output_type": "execute_result"
    }
   ],
   "source": [
    "copy_data_raw_train.head()"
   ]
  },
  {
   "cell_type": "code",
   "execution_count": 18,
   "metadata": {},
   "outputs": [],
   "source": [
    "from sklearn.preprocessing import LabelEncoder\n",
    "label = LabelEncoder()\n",
    "for dataset in data_cleaner_for_both:    \n",
    "    dataset['Sex_Code'] = label.fit_transform(dataset['Sex'])\n",
    "    dataset['Embarked_Code'] = label.fit_transform(dataset['Embarked'])\n",
    "    dataset['FareBins_code'] = label.fit_transform(dataset['FareBins'])\n",
    "    dataset['AgeBins_code'] = label.fit_transform(dataset['AgeBins'])\n",
    "\n",
    "\n"
   ]
  },
  {
   "cell_type": "code",
   "execution_count": 19,
   "metadata": {},
   "outputs": [
    {
     "data": {
      "text/plain": [
       "(891, 20)"
      ]
     },
     "execution_count": 19,
     "metadata": {},
     "output_type": "execute_result"
    }
   ],
   "source": [
    "copy_data_raw_train.shape"
   ]
  },
  {
   "cell_type": "code",
   "execution_count": 36,
   "metadata": {},
   "outputs": [],
   "source": [
    "#save file\n",
    "#copy_data_raw_train.to_csv(r\"C:\\Users\\Swati Gupta\\Desktop\\IEEE\\titanic_trainingdata.csv\")\n"
   ]
  },
  {
   "cell_type": "code",
   "execution_count": 20,
   "metadata": {},
   "outputs": [],
   "source": [
    "#Check multicollinearity\n",
    "import matplotlib.pyplot as plt\n",
    "import seaborn as sb\n",
    "\n",
    "def pearson_corr_value(training_data):\n",
    "    pearsoncorr= pd.DataFrame(training_data).corr(method= 'pearson')\n",
    "    plt.figure(figsize= (15,15))\n",
    "\n",
    "    sb.heatmap(pearsoncorr, xticklabels= pearsoncorr.columns, yticklabels= pearsoncorr.columns, cmap= 'RdBu_r', annot= True, linewidth = 1)\n",
    "\n",
    "pearson_corr_value(copy_data_raw_train)\n"
   ]
  },
  {
   "cell_type": "code",
   "execution_count": 61,
   "metadata": {},
   "outputs": [
    {
     "name": "stdout",
     "output_type": "stream",
     "text": [
      "(891, 20)\n",
      "(418, 19)\n",
      "['PassengerId' 'Survived' 'ticket_class' 'Name' 'Sex' 'Age'\n",
      " 'Sibling/spouse' 'Parents/children' 'Ticketnumber' 'Fare' 'Cabinnumber'\n",
      " 'Embarked' 'Family_Size' 'Is_Alone' 'FareBins' 'AgeBins' 'Sex_Code'\n",
      " 'Embarked_Code' 'FareBins_code' 'AgeBins_code']\n"
     ]
    }
   ],
   "source": [
    "print(copy_data_raw_train.shape)\n",
    "print(copy_data_raw_test.shape)\n",
    "print(copy_data_raw_train.columns.values)"
   ]
  },
  {
   "cell_type": "code",
   "execution_count": 21,
   "metadata": {},
   "outputs": [],
   "source": [
    "#remove ticketnumber and cabinnumber from both train and test data\n",
    "def remove_columns_notcontributing(data):\n",
    "    data= data.drop(['PassengerId','Ticketnumber','Cabinnumber', 'Name', 'Sex','Age', 'Fare','Embarked', 'FareBins','AgeBins' ], axis=1, inplace= True)\n",
    "    return data\n"
   ]
  },
  {
   "cell_type": "code",
   "execution_count": 22,
   "metadata": {},
   "outputs": [],
   "source": [
    "remove_columns_notcontributing(copy_data_raw_train)"
   ]
  },
  {
   "cell_type": "code",
   "execution_count": 23,
   "metadata": {},
   "outputs": [],
   "source": [
    "remove_columns_notcontributing(copy_data_raw_test)"
   ]
  },
  {
   "cell_type": "code",
   "execution_count": 24,
   "metadata": {},
   "outputs": [
    {
     "name": "stdout",
     "output_type": "stream",
     "text": [
      "(891, 10)\n",
      "(418, 9)\n"
     ]
    }
   ],
   "source": [
    "print(copy_data_raw_train.shape)\n",
    "print(copy_data_raw_test.shape)"
   ]
  },
  {
   "cell_type": "code",
   "execution_count": 72,
   "metadata": {},
   "outputs": [
    {
     "data": {
      "text/plain": [
       "((891, 9), (891,), (418, 9))"
      ]
     },
     "execution_count": 72,
     "metadata": {},
     "output_type": "execute_result"
    }
   ],
   "source": [
    "# X_train = copy_data_raw_train.drop(\"Survived\", axis=1)\n",
    "# Y_train = copy_data_raw_train[\"Survived\"]\n",
    "# X_test  = copy_data_raw_test.copy()\n",
    "# X_train.shape, Y_train.shape, X_test.shape"
   ]
  },
  {
   "cell_type": "markdown",
   "metadata": {},
   "source": [
    "# model training"
   ]
  },
  {
   "cell_type": "code",
   "execution_count": 64,
   "metadata": {},
   "outputs": [
    {
     "name": "stdout",
     "output_type": "stream",
     "text": [
      "<class 'pandas.core.frame.DataFrame'>\n",
      "<class 'pandas.core.frame.DataFrame'>\n",
      "<class 'pandas.core.frame.DataFrame'>\n",
      "<class 'pandas.core.frame.DataFrame'>\n"
     ]
    }
   ],
   "source": [
    "from sklearn.model_selection import train_test_split\n",
    "from sklearn import metrics\n",
    "\n",
    "test_size= 0.2\n",
    "seed= 6\n",
    "X_training= copy_data_raw_train.drop(\"Survived\", axis=1)\n",
    "Y_training= copy_data_raw_train['Survived']\n",
    "x_train, x_test, y_train, y_test= train_test_split(X_training,Y_training,test_size = test_size, random_state= seed)\n",
    "ytrain = y_train.to_frame() \n",
    "ytest= y_test.to_frame()\n",
    "\n",
    "print(type(x_train))\n",
    "print(type(x_test))\n",
    "print(type(ytrain))\n",
    "print(type(ytest))"
   ]
  },
  {
   "cell_type": "code",
   "execution_count": 65,
   "metadata": {},
   "outputs": [
    {
     "data": {
      "text/html": [
       "<div>\n",
       "<style scoped>\n",
       "    .dataframe tbody tr th:only-of-type {\n",
       "        vertical-align: middle;\n",
       "    }\n",
       "\n",
       "    .dataframe tbody tr th {\n",
       "        vertical-align: top;\n",
       "    }\n",
       "\n",
       "    .dataframe thead th {\n",
       "        text-align: right;\n",
       "    }\n",
       "</style>\n",
       "<table border=\"1\" class=\"dataframe\">\n",
       "  <thead>\n",
       "    <tr style=\"text-align: right;\">\n",
       "      <th></th>\n",
       "      <th>ticket_class</th>\n",
       "      <th>Sibling/spouse</th>\n",
       "      <th>Parents/children</th>\n",
       "      <th>Family_Size</th>\n",
       "      <th>Is_Alone</th>\n",
       "      <th>Sex_Code</th>\n",
       "      <th>Embarked_Code</th>\n",
       "      <th>FareBins_code</th>\n",
       "      <th>AgeBins_code</th>\n",
       "    </tr>\n",
       "  </thead>\n",
       "  <tbody>\n",
       "    <tr>\n",
       "      <th>257</th>\n",
       "      <td>1</td>\n",
       "      <td>0</td>\n",
       "      <td>0</td>\n",
       "      <td>1</td>\n",
       "      <td>1</td>\n",
       "      <td>0</td>\n",
       "      <td>2</td>\n",
       "      <td>0</td>\n",
       "      <td>1</td>\n",
       "    </tr>\n",
       "    <tr>\n",
       "      <th>4</th>\n",
       "      <td>3</td>\n",
       "      <td>0</td>\n",
       "      <td>0</td>\n",
       "      <td>1</td>\n",
       "      <td>1</td>\n",
       "      <td>1</td>\n",
       "      <td>2</td>\n",
       "      <td>0</td>\n",
       "      <td>1</td>\n",
       "    </tr>\n",
       "    <tr>\n",
       "      <th>488</th>\n",
       "      <td>3</td>\n",
       "      <td>0</td>\n",
       "      <td>0</td>\n",
       "      <td>1</td>\n",
       "      <td>1</td>\n",
       "      <td>1</td>\n",
       "      <td>2</td>\n",
       "      <td>0</td>\n",
       "      <td>1</td>\n",
       "    </tr>\n",
       "    <tr>\n",
       "      <th>651</th>\n",
       "      <td>2</td>\n",
       "      <td>0</td>\n",
       "      <td>1</td>\n",
       "      <td>2</td>\n",
       "      <td>0</td>\n",
       "      <td>0</td>\n",
       "      <td>2</td>\n",
       "      <td>0</td>\n",
       "      <td>0</td>\n",
       "    </tr>\n",
       "    <tr>\n",
       "      <th>512</th>\n",
       "      <td>1</td>\n",
       "      <td>0</td>\n",
       "      <td>0</td>\n",
       "      <td>1</td>\n",
       "      <td>1</td>\n",
       "      <td>1</td>\n",
       "      <td>2</td>\n",
       "      <td>0</td>\n",
       "      <td>1</td>\n",
       "    </tr>\n",
       "  </tbody>\n",
       "</table>\n",
       "</div>"
      ],
      "text/plain": [
       "     ticket_class  Sibling/spouse  Parents/children  Family_Size  Is_Alone  \\\n",
       "257             1               0                 0            1         1   \n",
       "4               3               0                 0            1         1   \n",
       "488             3               0                 0            1         1   \n",
       "651             2               0                 1            2         0   \n",
       "512             1               0                 0            1         1   \n",
       "\n",
       "     Sex_Code  Embarked_Code  FareBins_code  AgeBins_code  \n",
       "257         0              2              0             1  \n",
       "4           1              2              0             1  \n",
       "488         1              2              0             1  \n",
       "651         0              2              0             0  \n",
       "512         1              2              0             1  "
      ]
     },
     "execution_count": 65,
     "metadata": {},
     "output_type": "execute_result"
    }
   ],
   "source": [
    "x_test.head()"
   ]
  },
  {
   "cell_type": "code",
   "execution_count": 67,
   "metadata": {},
   "outputs": [
    {
     "name": "stdout",
     "output_type": "stream",
     "text": [
      "Accuracy with logistic model is: 0.8491620111731844\n"
     ]
    }
   ],
   "source": [
    "#Logistic regression\n",
    "from sklearn.linear_model import LogisticRegression\n",
    "model1 = LogisticRegression()\n",
    "model1.fit(x_train, ytrain)\n",
    "Y_pred = model1.predict(x_test)\n",
    "y_pred= pd.DataFrame(Y_pred)\n",
    "accuracy_with_logistic = (metrics.accuracy_score(y_pred,ytest))\n",
    "print(\"Accuracy with logistic model is:\", accuracy_with_logistic)\n"
   ]
  },
  {
   "cell_type": "code",
   "execution_count": 68,
   "metadata": {},
   "outputs": [
    {
     "name": "stdout",
     "output_type": "stream",
     "text": [
      "Accuracy with knn model is: 0.7821229050279329\n"
     ]
    }
   ],
   "source": [
    "#K-Nearest Neighbour\n",
    "from sklearn.neighbors import KNeighborsClassifier\n",
    "\n",
    "knn = KNeighborsClassifier(n_neighbors = 3)\n",
    "knn.fit(x_train, ytrain)\n",
    "Y_pred = knn.predict(x_test)\n",
    "y_pred= pd.DataFrame(Y_pred)\n",
    "\n",
    "acc_knn = (metrics.accuracy_score(y_pred,ytest))\n",
    "\n",
    "print(\"Accuracy with knn model is:\", acc_knn)\n"
   ]
  },
  {
   "cell_type": "code",
   "execution_count": 70,
   "metadata": {},
   "outputs": [
    {
     "name": "stdout",
     "output_type": "stream",
     "text": [
      "Accuracy with svc model is: 0.8659217877094972\n"
     ]
    }
   ],
   "source": [
    "#SUPPORT VECTOR MACHINE\n",
    "from sklearn.svm import SVC\n",
    "svc = SVC()\n",
    "svc.fit(x_train, ytrain)\n",
    "Y_pred = svc.predict(x_test)\n",
    "y_pred= pd.DataFrame(Y_pred)\n",
    "\n",
    "acc_svc = (metrics.accuracy_score(y_pred,ytest))\n",
    "print(\"Accuracy with svc model is:\", acc_svc)\n"
   ]
  },
  {
   "cell_type": "code",
   "execution_count": 71,
   "metadata": {},
   "outputs": [
    {
     "name": "stdout",
     "output_type": "stream",
     "text": [
      "Accuracy with naives model is: 0.8100558659217877\n"
     ]
    }
   ],
   "source": [
    "#Naive Bayes\n",
    "from sklearn.naive_bayes import GaussianNB\n",
    "gaussian = GaussianNB()\n",
    "gaussian.fit(x_train, ytrain)\n",
    "Y_pred = gaussian.predict(x_test)\n",
    "y_pred= pd.DataFrame(Y_pred)\n",
    "\n",
    "acc_gaussian = (metrics.accuracy_score(y_pred,ytest))\n",
    "print(\"Accuracy with naives model is:\", acc_gaussian)\n"
   ]
  },
  {
   "cell_type": "code",
   "execution_count": 72,
   "metadata": {},
   "outputs": [
    {
     "name": "stdout",
     "output_type": "stream",
     "text": [
      "Accuracy with decisiontree model is: 0.8268156424581006\n"
     ]
    }
   ],
   "source": [
    "#Decision Tree\n",
    "from sklearn.tree import DecisionTreeClassifier\n",
    "\n",
    "decision_tree = DecisionTreeClassifier()\n",
    "decision_tree.fit(x_train, ytrain)\n",
    "Y_pred = decision_tree.predict(x_test)\n",
    "y_pred= pd.DataFrame(Y_pred)\n",
    "\n",
    "acc_decision_tree = (metrics.accuracy_score(y_pred,ytest))\n",
    "print(\"Accuracy with decisiontree model is:\", acc_decision_tree)\n"
   ]
  },
  {
   "cell_type": "code",
   "execution_count": 75,
   "metadata": {},
   "outputs": [
    {
     "name": "stdout",
     "output_type": "stream",
     "text": [
      "Accuracy with randomforest model is: 0.8268156424581006\n"
     ]
    }
   ],
   "source": [
    "#Random Forest\n",
    "from sklearn.ensemble import RandomForestClassifier\n",
    "\n",
    "random_forest = RandomForestClassifier(n_estimators=100)\n",
    "random_forest.fit(x_train, ytrain)\n",
    "Y_pred = random_forest.predict(x_test)\n",
    "y_pred= pd.DataFrame(Y_pred)\n",
    "\n",
    "#random_forest.score(x_train, ytrain)\n",
    "acc_random_forest = (metrics.accuracy_score(y_pred,ytest))\n",
    "print(\"Accuracy with randomforest model is:\", acc_random_forest)\n"
   ]
  },
  {
   "cell_type": "code",
   "execution_count": null,
   "metadata": {},
   "outputs": [],
   "source": []
  }
 ],
 "metadata": {
  "kernelspec": {
   "display_name": "Python 3",
   "language": "python",
   "name": "python3"
  },
  "language_info": {
   "codemirror_mode": {
    "name": "ipython",
    "version": 3
   },
   "file_extension": ".py",
   "mimetype": "text/x-python",
   "name": "python",
   "nbconvert_exporter": "python",
   "pygments_lexer": "ipython3",
   "version": "3.7.3"
  }
 },
 "nbformat": 4,
 "nbformat_minor": 2
}
